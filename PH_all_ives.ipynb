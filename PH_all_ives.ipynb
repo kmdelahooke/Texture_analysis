{
 "cells": [
  {
   "cell_type": "code",
   "execution_count": 3,
   "metadata": {},
   "outputs": [],
   "source": [
    "##import image data\n",
    "import numpy as np\n",
    "from pathlib import Path\n",
    "from skimage import io\n",
    "\n",
    "pathlist = Path('E:/Pigeon Cove/Ivesheadiomorphs/ives_png').rglob('*.png')\n",
    "\n",
    "img = []\n",
    "for path in pathlist:\n",
    "     img.append(io.imread(path))\n",
    "\n",
    "#io.imshow(img[28])\n"
   ]
  },
  {
   "cell_type": "code",
   "execution_count": 4,
   "metadata": {},
   "outputs": [],
   "source": [
    "#convert image to array then binarize then filter\n",
    "from gtda.images import Binarizer\n",
    "from gtda.images import RadialFiltration\n",
    "\n",
    "\n",
    "ims = []\n",
    "for x in img:\n",
    "    im = np.asarray(x)\n",
    "    im = im[:, :, 0]\n",
    "    im = im[None, :, :]#reshape\n",
    "\n",
    "    #binarize\n",
    "    binarizer = Binarizer(threshold = 0.5)\n",
    "    img_bin = binarizer.fit_transform(im)\n",
    "    \n",
    "    #radial filtration\n",
    "    radial_filtration = RadialFiltration(center=np.array([round(im.shape[0]/2), round(im.shape[1]/2)]))\n",
    "    im_filtration = radial_filtration.fit_transform(img_bin)\n",
    "\n",
    "    #append to list\n",
    "    ims.append(im_filtration)"
   ]
  },
  {
   "cell_type": "code",
   "execution_count": 5,
   "metadata": {},
   "outputs": [],
   "source": [
    "#Get persistence diagram\n",
    "from gtda.homology import CubicalPersistence\n",
    "from gtda.diagrams import Scaler\n",
    "from gtda.diagrams import Filtering\n",
    "\n",
    "cubical_persistence = CubicalPersistence(n_jobs=-1)\n",
    "scaler = Scaler()\n",
    "filtering = Filtering()\n",
    "\n",
    "pd = []\n",
    "for x in ims:\n",
    "    im_cubical = cubical_persistence.fit_transform(x)\n",
    "    im_scaled = scaler.fit_transform(im_cubical) #scale\n",
    "    im_filtered = filtering.fit_transform(im_scaled) #filter\n",
    "\n",
    "    pd.append(im_filtered)\n",
    "\n",
    "\n",
    "\n",
    "#cubical_persistence.plot(im_cubical)\n",
    "#scaler.plot(im_scaled)\n",
    "#filtering.plot(im_filtered)"
   ]
  },
  {
   "cell_type": "code",
   "execution_count": 9,
   "metadata": {},
   "outputs": [
    {
     "name": "stdout",
     "output_type": "stream",
     "text": [
      "<class 'numpy.ndarray'>\n"
     ]
    }
   ],
   "source": [
    "from gtda.diagrams import PersistenceImage\n",
    "\n",
    "persistenceimage = PersistenceImage()\n",
    "\n",
    "#pi = []\n",
    "#for x in pd:\n",
    "im_pers = persistenceimage.fit_transform(pd[1]) \n",
    "print(type(im_pers))\n",
    "    \n",
    "\n",
    "\n"
   ]
  }
 ],
 "metadata": {
  "kernelspec": {
   "display_name": "base",
   "language": "python",
   "name": "python3"
  },
  "language_info": {
   "codemirror_mode": {
    "name": "ipython",
    "version": 3
   },
   "file_extension": ".py",
   "mimetype": "text/x-python",
   "name": "python",
   "nbconvert_exporter": "python",
   "pygments_lexer": "ipython3",
   "version": "3.8.11"
  },
  "orig_nbformat": 4
 },
 "nbformat": 4,
 "nbformat_minor": 2
}
